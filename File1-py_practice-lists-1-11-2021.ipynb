{
 "cells": [
  {
   "cell_type": "code",
   "execution_count": 7,
   "metadata": {},
   "outputs": [],
   "source": [
    "import numpy as np\n",
    "import random"
   ]
  },
  {
   "cell_type": "markdown",
   "metadata": {},
   "source": [
    "1. Write a Python function that takes a sequence of numbers and determines whether all the numbers are different from each other"
   ]
  },
  {
   "cell_type": "code",
   "execution_count": 3,
   "metadata": {},
   "outputs": [
    {
     "name": "stdout",
     "output_type": "stream",
     "text": [
      "True\n",
      "False\n"
     ]
    }
   ],
   "source": [
    "def one(a):\n",
    "    print(len(a) == len(set(a)))\n",
    "\n",
    "one([1, 2, 3, 4])\n",
    "one([2, 3, 1, 2, 4, 2])"
   ]
  },
  {
   "cell_type": "markdown",
   "metadata": {},
   "source": [
    "2. Write a Python program to create all possible strings by using 'a', 'e', 'i', 'o', 'u'. Use the characters exactly once."
   ]
  },
  {
   "cell_type": "code",
   "execution_count": 15,
   "metadata": {},
   "outputs": [
    {
     "data": {
      "text/plain": [
       "[('a', 'e', 'i', 'o', 'u'),\n",
       " ('a', 'e', 'i', 'u', 'o'),\n",
       " ('a', 'e', 'o', 'i', 'u'),\n",
       " ('a', 'e', 'o', 'u', 'i'),\n",
       " ('a', 'e', 'u', 'i', 'o'),\n",
       " ('a', 'e', 'u', 'o', 'i'),\n",
       " ('a', 'i', 'e', 'o', 'u'),\n",
       " ('a', 'i', 'e', 'u', 'o'),\n",
       " ('a', 'i', 'o', 'e', 'u'),\n",
       " ('a', 'i', 'o', 'u', 'e'),\n",
       " ('a', 'i', 'u', 'e', 'o'),\n",
       " ('a', 'i', 'u', 'o', 'e'),\n",
       " ('a', 'o', 'e', 'i', 'u'),\n",
       " ('a', 'o', 'e', 'u', 'i'),\n",
       " ('a', 'o', 'i', 'e', 'u'),\n",
       " ('a', 'o', 'i', 'u', 'e'),\n",
       " ('a', 'o', 'u', 'e', 'i'),\n",
       " ('a', 'o', 'u', 'i', 'e'),\n",
       " ('a', 'u', 'e', 'i', 'o'),\n",
       " ('a', 'u', 'e', 'o', 'i'),\n",
       " ('a', 'u', 'i', 'e', 'o'),\n",
       " ('a', 'u', 'i', 'o', 'e'),\n",
       " ('a', 'u', 'o', 'e', 'i'),\n",
       " ('a', 'u', 'o', 'i', 'e'),\n",
       " ('e', 'a', 'i', 'o', 'u'),\n",
       " ('e', 'a', 'i', 'u', 'o'),\n",
       " ('e', 'a', 'o', 'i', 'u'),\n",
       " ('e', 'a', 'o', 'u', 'i'),\n",
       " ('e', 'a', 'u', 'i', 'o'),\n",
       " ('e', 'a', 'u', 'o', 'i'),\n",
       " ('e', 'i', 'a', 'o', 'u'),\n",
       " ('e', 'i', 'a', 'u', 'o'),\n",
       " ('e', 'i', 'o', 'a', 'u'),\n",
       " ('e', 'i', 'o', 'u', 'a'),\n",
       " ('e', 'i', 'u', 'a', 'o'),\n",
       " ('e', 'i', 'u', 'o', 'a'),\n",
       " ('e', 'o', 'a', 'i', 'u'),\n",
       " ('e', 'o', 'a', 'u', 'i'),\n",
       " ('e', 'o', 'i', 'a', 'u'),\n",
       " ('e', 'o', 'i', 'u', 'a'),\n",
       " ('e', 'o', 'u', 'a', 'i'),\n",
       " ('e', 'o', 'u', 'i', 'a'),\n",
       " ('e', 'u', 'a', 'i', 'o'),\n",
       " ('e', 'u', 'a', 'o', 'i'),\n",
       " ('e', 'u', 'i', 'a', 'o'),\n",
       " ('e', 'u', 'i', 'o', 'a'),\n",
       " ('e', 'u', 'o', 'a', 'i'),\n",
       " ('e', 'u', 'o', 'i', 'a'),\n",
       " ('i', 'a', 'e', 'o', 'u'),\n",
       " ('i', 'a', 'e', 'u', 'o'),\n",
       " ('i', 'a', 'o', 'e', 'u'),\n",
       " ('i', 'a', 'o', 'u', 'e'),\n",
       " ('i', 'a', 'u', 'e', 'o'),\n",
       " ('i', 'a', 'u', 'o', 'e'),\n",
       " ('i', 'e', 'a', 'o', 'u'),\n",
       " ('i', 'e', 'a', 'u', 'o'),\n",
       " ('i', 'e', 'o', 'a', 'u'),\n",
       " ('i', 'e', 'o', 'u', 'a'),\n",
       " ('i', 'e', 'u', 'a', 'o'),\n",
       " ('i', 'e', 'u', 'o', 'a'),\n",
       " ('i', 'o', 'a', 'e', 'u'),\n",
       " ('i', 'o', 'a', 'u', 'e'),\n",
       " ('i', 'o', 'e', 'a', 'u'),\n",
       " ('i', 'o', 'e', 'u', 'a'),\n",
       " ('i', 'o', 'u', 'a', 'e'),\n",
       " ('i', 'o', 'u', 'e', 'a'),\n",
       " ('i', 'u', 'a', 'e', 'o'),\n",
       " ('i', 'u', 'a', 'o', 'e'),\n",
       " ('i', 'u', 'e', 'a', 'o'),\n",
       " ('i', 'u', 'e', 'o', 'a'),\n",
       " ('i', 'u', 'o', 'a', 'e'),\n",
       " ('i', 'u', 'o', 'e', 'a'),\n",
       " ('o', 'a', 'e', 'i', 'u'),\n",
       " ('o', 'a', 'e', 'u', 'i'),\n",
       " ('o', 'a', 'i', 'e', 'u'),\n",
       " ('o', 'a', 'i', 'u', 'e'),\n",
       " ('o', 'a', 'u', 'e', 'i'),\n",
       " ('o', 'a', 'u', 'i', 'e'),\n",
       " ('o', 'e', 'a', 'i', 'u'),\n",
       " ('o', 'e', 'a', 'u', 'i'),\n",
       " ('o', 'e', 'i', 'a', 'u'),\n",
       " ('o', 'e', 'i', 'u', 'a'),\n",
       " ('o', 'e', 'u', 'a', 'i'),\n",
       " ('o', 'e', 'u', 'i', 'a'),\n",
       " ('o', 'i', 'a', 'e', 'u'),\n",
       " ('o', 'i', 'a', 'u', 'e'),\n",
       " ('o', 'i', 'e', 'a', 'u'),\n",
       " ('o', 'i', 'e', 'u', 'a'),\n",
       " ('o', 'i', 'u', 'a', 'e'),\n",
       " ('o', 'i', 'u', 'e', 'a'),\n",
       " ('o', 'u', 'a', 'e', 'i'),\n",
       " ('o', 'u', 'a', 'i', 'e'),\n",
       " ('o', 'u', 'e', 'a', 'i'),\n",
       " ('o', 'u', 'e', 'i', 'a'),\n",
       " ('o', 'u', 'i', 'a', 'e'),\n",
       " ('o', 'u', 'i', 'e', 'a'),\n",
       " ('u', 'a', 'e', 'i', 'o'),\n",
       " ('u', 'a', 'e', 'o', 'i'),\n",
       " ('u', 'a', 'i', 'e', 'o'),\n",
       " ('u', 'a', 'i', 'o', 'e'),\n",
       " ('u', 'a', 'o', 'e', 'i'),\n",
       " ('u', 'a', 'o', 'i', 'e'),\n",
       " ('u', 'e', 'a', 'i', 'o'),\n",
       " ('u', 'e', 'a', 'o', 'i'),\n",
       " ('u', 'e', 'i', 'a', 'o'),\n",
       " ('u', 'e', 'i', 'o', 'a'),\n",
       " ('u', 'e', 'o', 'a', 'i'),\n",
       " ('u', 'e', 'o', 'i', 'a'),\n",
       " ('u', 'i', 'a', 'e', 'o'),\n",
       " ('u', 'i', 'a', 'o', 'e'),\n",
       " ('u', 'i', 'e', 'a', 'o'),\n",
       " ('u', 'i', 'e', 'o', 'a'),\n",
       " ('u', 'i', 'o', 'a', 'e'),\n",
       " ('u', 'i', 'o', 'e', 'a'),\n",
       " ('u', 'o', 'a', 'e', 'i'),\n",
       " ('u', 'o', 'a', 'i', 'e'),\n",
       " ('u', 'o', 'e', 'a', 'i'),\n",
       " ('u', 'o', 'e', 'i', 'a'),\n",
       " ('u', 'o', 'i', 'a', 'e'),\n",
       " ('u', 'o', 'i', 'e', 'a')]"
      ]
     },
     "execution_count": 15,
     "metadata": {},
     "output_type": "execute_result"
    }
   ],
   "source": [
    "a = ['a', 'e', 'i', 'o', 'u']\n",
    "from itertools import permutations\n",
    "\n",
    "list(permutations(a))"
   ]
  },
  {
   "cell_type": "markdown",
   "metadata": {},
   "source": [
    "3. Write a Python program to remove and print every third number from a list of numbers until the list becomes empty."
   ]
  },
  {
   "cell_type": "code",
   "execution_count": 18,
   "metadata": {},
   "outputs": [
    {
     "name": "stdout",
     "output_type": "stream",
     "text": [
      "2\n",
      "2\n",
      "12\n",
      "4\n",
      "1\n"
     ]
    }
   ],
   "source": [
    "a = [2, 4, 1, 2, 6, 3, 12, 6, 23, 4, 7, 2, 1, 4]\n",
    "for i in a[::3]:\n",
    "    print(i)"
   ]
  },
  {
   "cell_type": "markdown",
   "metadata": {},
   "source": [
    "4. Write a Python program to find common divisors between two numbers in a given pair."
   ]
  },
  {
   "cell_type": "code",
   "execution_count": 32,
   "metadata": {},
   "outputs": [
    {
     "name": "stdout",
     "output_type": "stream",
     "text": [
      "[2, 4, 7, 13, 14, 26, 28, 29, 49, 52, 58, 91, 98, 116, 182, 196, 203, 364, 377, 406, 637, 754, 812, 1274, 1421, 1508, 2548, 2639, 2842, 5278, 5684, 10556, 18473] [2, 4, 13, 26, 52, 1021, 2042, 4084, 13273] {2, 4, 13, 52, 26}\n"
     ]
    }
   ],
   "source": [
    "def common(a, b):\n",
    "    a_d = []\n",
    "    b_d = []\n",
    "    \n",
    "    for i in range(2, a//2):\n",
    "        if a%i== 0:\n",
    "            a_d.append(i)\n",
    "    for i in range(2, b//2):\n",
    "        if b%i== 0:\n",
    "            b_d.append(i)            \n",
    "    \n",
    "    print(a_d, b_d, set(a_d).intersection(set(b_d)))\n",
    "common(73892, 53092)"
   ]
  },
  {
   "cell_type": "markdown",
   "metadata": {},
   "source": [
    "5. Write a Python program to compute the amount of the debt in n months. The borrowing amount is $100,000 and the loan adds 5%"
   ]
  },
  {
   "cell_type": "code",
   "execution_count": 37,
   "metadata": {},
   "outputs": [
    {
     "data": {
      "text/plain": [
       "111416.83630306114"
      ]
     },
     "execution_count": 37,
     "metadata": {},
     "output_type": "execute_result"
    }
   ],
   "source": [
    "def total(loan, inter, months):\n",
    "    for i in range(months):\n",
    "        loan += inter*loan/12\n",
    "    return loan\n",
    "\n",
    "total(100000, .05, 26)"
   ]
  },
  {
   "cell_type": "markdown",
   "metadata": {},
   "source": [
    "6. Print the Prime Numbers up till a certain number"
   ]
  },
  {
   "cell_type": "code",
   "execution_count": 63,
   "metadata": {},
   "outputs": [],
   "source": [
    "def prime(num):\n",
    "    a = list(range(3, num))\n",
    "    prime_list = [2]\n",
    "    for i in a:\n",
    "        prime = True\n",
    "        for j in prime_list:\n",
    "            if i%j==0:\n",
    "                prime = False\n",
    "        if prime==True:\n",
    "            prime_list.append(i)\n",
    "    print(prime_list)"
   ]
  },
  {
   "cell_type": "code",
   "execution_count": 64,
   "metadata": {},
   "outputs": [
    {
     "name": "stdout",
     "output_type": "stream",
     "text": [
      "[2, 3, 5, 7, 11, 13, 17, 19]\n"
     ]
    }
   ],
   "source": [
    "prime(20)"
   ]
  },
  {
   "cell_type": "markdown",
   "metadata": {},
   "source": [
    "7. Let’s say I give you a list saved in a variable: a = [1, 4, 9, 16, 25, 36, 49, 64, 81, 100]. Write one line of Python that takes this list a and makes a new list that has only the even elements of this list in it."
   ]
  },
  {
   "cell_type": "code",
   "execution_count": 65,
   "metadata": {},
   "outputs": [
    {
     "data": {
      "text/plain": [
       "[4, 16, 36, 64, 100]"
      ]
     },
     "execution_count": 65,
     "metadata": {},
     "output_type": "execute_result"
    }
   ],
   "source": [
    "a = [1, 4, 9, 16, 25, 36, 49, 64, 81, 100]\n",
    "[i for i in a if i%2 == 0]"
   ]
  },
  {
   "cell_type": "markdown",
   "metadata": {},
   "source": [
    "8. Create function which returns n numbers of Fibonnaci sequence"
   ]
  },
  {
   "cell_type": "code",
   "execution_count": 79,
   "metadata": {},
   "outputs": [
    {
     "name": "stdout",
     "output_type": "stream",
     "text": [
      "2 1 2\n",
      "3 2 3\n",
      "5 3 5\n",
      "8 5 8\n",
      "13 8 13\n"
     ]
    },
    {
     "data": {
      "text/plain": [
       "13"
      ]
     },
     "execution_count": 79,
     "metadata": {},
     "output_type": "execute_result"
    }
   ],
   "source": [
    "def fib(n):\n",
    "    if n<3:\n",
    "        return 1\n",
    "    \n",
    "    prev1 = 1\n",
    "    prev2 = 1\n",
    "    \n",
    "    for i in range(n-2):\n",
    "        curr = prev1 + prev2\n",
    "        prev2 = prev1\n",
    "        prev1 = curr\n",
    "        print(prev1, prev2, curr)\n",
    "    return curr\n",
    "fib(7)"
   ]
  },
  {
   "cell_type": "markdown",
   "metadata": {},
   "source": [
    "9. Write a program (using functions!) that asks the user for a long string containing multiple words. Print back to the user the same string, except with the words in backwards order. "
   ]
  },
  {
   "cell_type": "code",
   "execution_count": 81,
   "metadata": {},
   "outputs": [
    {
     "data": {
      "text/plain": [
       "'hat the in cat The'"
      ]
     },
     "execution_count": 81,
     "metadata": {},
     "output_type": "execute_result"
    }
   ],
   "source": [
    "def rev(string):\n",
    "    return ' '.join(string.split(' ')[::-1])\n",
    "\n",
    "rev('The cat in the hat')"
   ]
  },
  {
   "cell_type": "markdown",
   "metadata": {},
   "source": [
    "10. Draw a fake tic-tac-toe boardgame using arrays "
   ]
  },
  {
   "cell_type": "code",
   "execution_count": 107,
   "metadata": {},
   "outputs": [
    {
     "name": "stdout",
     "output_type": "stream",
     "text": [
      " --- --- --- ---\n",
      "|   |   |   |   |   \n",
      " --- --- --- ---\n",
      "|   |   |   |   |   \n",
      " --- --- --- ---\n"
     ]
    }
   ],
   "source": [
    "def draw(x, y):\n",
    "    for i in range(y):\n",
    "        print(' ---'*x)\n",
    "        print('|   '*(x+1))\n",
    "    print(' ---'*x)\n",
    "        \n",
    "draw(4,2)"
   ]
  },
  {
   "cell_type": "markdown",
   "metadata": {},
   "source": [
    "11. Write a function, add_it_up(), that takes a single integer as input and returns the sum of the integers from zero to the input parameter. Make sure to account for errors in entry"
   ]
  },
  {
   "cell_type": "code",
   "execution_count": 119,
   "metadata": {},
   "outputs": [
    {
     "name": "stdout",
     "output_type": "stream",
     "text": [
      "7\n"
     ]
    },
    {
     "data": {
      "text/plain": [
       "28"
      ]
     },
     "execution_count": 119,
     "metadata": {},
     "output_type": "execute_result"
    }
   ],
   "source": [
    "def add_up():\n",
    "    x = input()\n",
    "    try:\n",
    "        x = int(x)\n",
    "    except:\n",
    "        return 'You must enter an integer'\n",
    "    total = 0\n",
    "    for i in range(x+1):\n",
    "        total += i\n",
    "    return total\n",
    "add_up()"
   ]
  },
  {
   "cell_type": "markdown",
   "metadata": {},
   "source": [
    "12. Caesar Cipher\n",
    "    A Caesar cipher is a simple substitution cipher in which each letter of the\n",
    "    plain text is substituted with a letter found by moving n places down the\n",
    "    alphabet. For example, assume the input plain text is the following:\n",
    "\n",
    "        abcd xyz\n",
    "\n",
    "    If the shift value, n, is 4, then the encrypted text would be the following:\n",
    "\n",
    "        efgh bcd\n",
    "\n",
    "    You are to write a function that accepts two arguments, a plain-text\n",
    "    message and a number of letters to shift in the cipher. The function will\n",
    "    return an encrypted string with all letters transformed and all\n",
    "    punctuation and whitespace remaining unchanged.\n"
   ]
  },
  {
   "cell_type": "code",
   "execution_count": 143,
   "metadata": {},
   "outputs": [
    {
     "name": "stdout",
     "output_type": "stream",
     "text": [
      "cg a p79vbt gbtjvs\n"
     ]
    }
   ],
   "source": [
    "def caesar(string, shift):\n",
    "    if shift > 25:\n",
    "        return 'You must put a shift less than 26'\n",
    "    alp = 'abcdefghijklmnopqrstuvwxyz'\n",
    "    alp_new = list(alp*2)\n",
    "    inp = list(string)\n",
    "    output = ''\n",
    "    for i in inp:\n",
    "        if i not in alp_new:\n",
    "            output += i\n",
    "        else:\n",
    "            output+= alp_new[alp_new.index(i)+shift]\n",
    "    print(output)\n",
    "caesar('bf z o79uas fasiur', 1)"
   ]
  },
  {
   "cell_type": "markdown",
   "metadata": {},
   "source": [
    "13. Find uncommon words between 2 strings"
   ]
  },
  {
   "cell_type": "code",
   "execution_count": 166,
   "metadata": {},
   "outputs": [
    {
     "data": {
      "text/plain": [
       "{'coolest', 'hat', 'is', 'lucy', 'world'}"
      ]
     },
     "execution_count": 166,
     "metadata": {},
     "output_type": "execute_result"
    }
   ],
   "source": [
    "def uncommon(a, b):\n",
    "    a = set(a.split(' '))\n",
    "    b = set(b.split(' '))\n",
    "    return a.union(b) - a.intersection(b)\n",
    "\n",
    "uncommon('the cat in the hat', 'lucy is the coolest cat in the world')"
   ]
  },
  {
   "cell_type": "markdown",
   "metadata": {},
   "source": [
    "14. Remove duplicates from an array. Don't use sets or anything"
   ]
  },
  {
   "cell_type": "code",
   "execution_count": 160,
   "metadata": {},
   "outputs": [
    {
     "data": {
      "text/plain": [
       "[5, 4, 7, 12, 32]"
      ]
     },
     "execution_count": 160,
     "metadata": {},
     "output_type": "execute_result"
    }
   ],
   "source": [
    "def dup(a):\n",
    "    #Build a count dictionary and create list where values = 1\n",
    "    d = dict()\n",
    "    for i in a:\n",
    "        if i in d.keys():\n",
    "            d[i] += 1\n",
    "        else:\n",
    "            d[i] = 1\n",
    "            \n",
    "    return [i for i, v in d.items() if v == 1]\n",
    "\n",
    "dup([1, 2, 3, 1, 2, 1, 5, 2, 4, 7, 3, 12, 32, ])"
   ]
  },
  {
   "cell_type": "markdown",
   "metadata": {},
   "source": [
    "15. Write a function that, given a string representing a sentence, returns the sentence with the words in the same order but the letter in each word reversed."
   ]
  },
  {
   "cell_type": "code",
   "execution_count": 164,
   "metadata": {},
   "outputs": [
    {
     "data": {
      "text/plain": [
       "'eht tsetaerg yad reve'"
      ]
     },
     "execution_count": 164,
     "metadata": {},
     "output_type": "execute_result"
    }
   ],
   "source": [
    "def rev_str(s):\n",
    "    s_l = s.split(' ')\n",
    "    return ' '.join([i[::-1] for i in s_l])\n",
    "rev_str('the greatest day ever')"
   ]
  },
  {
   "cell_type": "code",
   "execution_count": null,
   "metadata": {},
   "outputs": [],
   "source": []
  },
  {
   "cell_type": "code",
   "execution_count": null,
   "metadata": {},
   "outputs": [],
   "source": []
  }
 ],
 "metadata": {
  "kernelspec": {
   "display_name": "Python 3",
   "language": "python",
   "name": "python3"
  },
  "language_info": {
   "codemirror_mode": {
    "name": "ipython",
    "version": 3
   },
   "file_extension": ".py",
   "mimetype": "text/x-python",
   "name": "python",
   "nbconvert_exporter": "python",
   "pygments_lexer": "ipython3",
   "version": "3.8.5"
  }
 },
 "nbformat": 4,
 "nbformat_minor": 4
}
