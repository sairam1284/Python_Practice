{
 "cells": [
  {
   "cell_type": "code",
   "execution_count": 1,
   "metadata": {},
   "outputs": [],
   "source": [
    "import pandas as pd\n",
    "import numpy as np"
   ]
  },
  {
   "cell_type": "markdown",
   "metadata": {},
   "source": [
    "## 1 - In this game, the task is to create a script that generates a random number between a range. User should be able to guess a number and have the function tell if they are high or low"
   ]
  },
  {
   "cell_type": "code",
   "execution_count": 24,
   "metadata": {},
   "outputs": [],
   "source": [
    "def guesser(low, high):\n",
    "    actual = np.random.randint(low, high)\n",
    "    guess = int(input())\n",
    "    while guess != actual:\n",
    "        if guess > actual:\n",
    "            print('your number is greater than the actual. Guess Again')\n",
    "            guess = int(input())\n",
    "        else:\n",
    "            print('your number is less than the actual. Guess Again')\n",
    "            guess = int(input())\n",
    "        if guess == actual: \n",
    "            print('You Guess Right!')\n",
    "    return actual == guess"
   ]
  },
  {
   "cell_type": "code",
   "execution_count": 30,
   "metadata": {},
   "outputs": [
    {
     "name": "stdout",
     "output_type": "stream",
     "text": [
      "5\n",
      "your number is greater than the actual. Guess Again\n",
      "3\n",
      "You Guess Right!\n"
     ]
    },
    {
     "data": {
      "text/plain": [
       "True"
      ]
     },
     "execution_count": 30,
     "metadata": {},
     "output_type": "execute_result"
    }
   ],
   "source": [
    "guesser(0, 10)"
   ]
  },
  {
   "cell_type": "markdown",
   "metadata": {},
   "source": [
    "# 2 - Your task is to write a python script that can fetch the username and domain name from the email."
   ]
  },
  {
   "cell_type": "code",
   "execution_count": 35,
   "metadata": {},
   "outputs": [],
   "source": [
    "def email(email):\n",
    "    a = email.split('@')\n",
    "    return f'username:{a[0]}, domain: {a[1]}'"
   ]
  },
  {
   "cell_type": "code",
   "execution_count": 36,
   "metadata": {},
   "outputs": [
    {
     "data": {
      "text/plain": [
       "'username:ajfiowen, domain: gmail.com'"
      ]
     },
     "execution_count": 36,
     "metadata": {},
     "output_type": "execute_result"
    }
   ],
   "source": [
    "email('ajfiowen@gmail.com')"
   ]
  },
  {
   "cell_type": "markdown",
   "metadata": {},
   "source": [
    "# 3 - You need to write a python script that generates an acronym word from a given sentence."
   ]
  },
  {
   "cell_type": "code",
   "execution_count": 54,
   "metadata": {},
   "outputs": [],
   "source": [
    "def acronym(sent):\n",
    "    a = sent.split(' ')\n",
    "    return ''.join([i[0] for i in a]).upper()"
   ]
  },
  {
   "cell_type": "code",
   "execution_count": 55,
   "metadata": {},
   "outputs": [
    {
     "data": {
      "text/plain": [
       "'TCITH'"
      ]
     },
     "execution_count": 55,
     "metadata": {},
     "output_type": "execute_result"
    }
   ],
   "source": [
    "acronym('the cat in the hat')"
   ]
  },
  {
   "cell_type": "markdown",
   "metadata": {},
   "source": [
    "# 4 Create a Hangman Game\n"
   ]
  },
  {
   "cell_type": "code",
   "execution_count": 112,
   "metadata": {},
   "outputs": [],
   "source": [
    "def hangman(word): \n",
    "    length = len(word)\n",
    "    word = [i for i in word]\n",
    "    guess_letters = []\n",
    "    empty = ['_' for i in range(length)]\n",
    "    while '_' in empty:\n",
    "        a = input()\n",
    "        \n",
    "        if a not in word:\n",
    "            guess_letters.append(a)\n",
    "            print(f'{a} is not in the word. Guess Again')\n",
    "            print(f'Incorrect Guesses{guess_letters}')\n",
    "\n",
    "        else:\n",
    "            ids = [i for i, v in enumerate(word) if v == a]\n",
    "            for i in ids:\n",
    "                empty[i] = a\n",
    "        \n",
    "        print(empty)\n",
    "        \n",
    "    inc_guesses = len(guess_letters)    \n",
    "    print(f'You Won the game! with {inc_guesses} incorrect guesses.')\n",
    "    "
   ]
  },
  {
   "cell_type": "code",
   "execution_count": 114,
   "metadata": {},
   "outputs": [],
   "source": [
    "#hangman('elephant')"
   ]
  },
  {
   "cell_type": "markdown",
   "metadata": {},
   "source": [
    "# 5- Build a random password generator using lower, upper and numbers given a minimum # of a characterse"
   ]
  },
  {
   "cell_type": "code",
   "execution_count": 116,
   "metadata": {},
   "outputs": [
    {
     "data": {
      "text/plain": [
       "'6TmqGKxrz'"
      ]
     },
     "execution_count": 116,
     "metadata": {},
     "output_type": "execute_result"
    }
   ],
   "source": [
    "#Build a random password generator\n",
    "\n",
    "def pw_gen(number = 7):\n",
    "    ch_list = 'abcdefghijklmnopqrstuvwxyzABCDEFGHIJKLMNOPQRSTUVWXYZ1234567890'\n",
    "    password = ''\n",
    "    for i in range(number):\n",
    "        password += ch_list[np.random.randint(len(ch_list)-1)]\n",
    "    return password\n",
    "pw_gen(9)"
   ]
  },
  {
   "cell_type": "code",
   "execution_count": null,
   "metadata": {},
   "outputs": [],
   "source": []
  }
 ],
 "metadata": {
  "kernelspec": {
   "display_name": "Python 3",
   "language": "python",
   "name": "python3"
  },
  "language_info": {
   "codemirror_mode": {
    "name": "ipython",
    "version": 3
   },
   "file_extension": ".py",
   "mimetype": "text/x-python",
   "name": "python",
   "nbconvert_exporter": "python",
   "pygments_lexer": "ipython3",
   "version": "3.8.5"
  }
 },
 "nbformat": 4,
 "nbformat_minor": 4
}
